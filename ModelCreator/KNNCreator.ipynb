{
 "cells": [
  {
   "cell_type": "code",
   "execution_count": 7,
   "metadata": {},
   "outputs": [],
   "source": [
    "number_of_dimensions = 3\n",
    "\n",
    "from coremltools.models.nearest_neighbors import KNearestNeighborsClassifierBuilder\n",
    "builder = KNearestNeighborsClassifierBuilder(input_name='input',\n",
    "                                             output_name='output',\n",
    "                                             number_of_dimensions=number_of_dimensions,\n",
    "                                             default_class_label='00000',\n",
    "                                             number_of_neighbors=3,\n",
    "                                             weighting_scheme='inverse_distance',\n",
    "                                             index_type='linear')\n",
    "\n",
    "builder.author = 'Willie Wu'\n",
    "builder.license = 'MIT'\n",
    "builder.description = 'Classifies {} dimension vector based on 3 nearest neighbors'.format(number_of_dimensions)\n",
    "\n",
    "builder.spec.description.input[0].shortDescription = 'Input vector to classify'\n",
    "builder.spec.description.output[0].shortDescription = 'Predicted label. Defaults to \\'00000\\''\n",
    "builder.spec.description.output[1].shortDescription = 'Probabilities / score for each possible label.'\n",
    "\n",
    "builder.spec.description.trainingInput[0].shortDescription = 'Example input vector'\n",
    "builder.spec.description.trainingInput[1].shortDescription = 'Associated true label of each example vector'"
   ]
  },
  {
   "cell_type": "code",
   "execution_count": 8,
   "metadata": {},
   "outputs": [],
   "source": [
    "import numpy as np\n",
    "\n",
    "def give_random(high, target_percentile):\n",
    "    return int(np.random.normal(high*target_percentile, 15))\n",
    "    \n",
    "    \n",
    "def give_random_all(target_percentile):\n",
    "    #weed, tree, grass\n",
    "    return [give_random(500, target_percentile),\n",
    "            give_random(1500, target_percentile),\n",
    "            give_random(200, target_percentile)]"
   ]
  },
  {
   "cell_type": "code",
   "execution_count": 12,
   "metadata": {},
   "outputs": [],
   "source": [
    "# add_samples(data_points, labels)\n",
    "# Add some samples to the KNearestNeighborsClassifier model\n",
    "# :param data_points: List of input data points\n",
    "# :param labels: List of corresponding labels\n",
    "# :return: None\n",
    "data = []\n",
    "labels = []\n",
    "for i in ['0', '1', '2', '3']:\n",
    "    for j in ['0', '1', '2', '3']:\n",
    "        for k in ['0', '1', '2', '3']:\n",
    "            for h in ['0', '1', '2', '3']:\n",
    "                for l in ['0', '1', '2', '3']:\n",
    "                    tot = int(i) + int(j) + int(k) + int(h)+ int(l)\n",
    "                    percentile = (tot/5) /15\n",
    "                    fuzzed = give_random_all(percentile)\n",
    "                    labels.append(i+j+k+h+l)\n",
    "                    data.append(fuzzed)\n",
    "builder.add_samples(data, labels)"
   ]
  },
  {
   "cell_type": "code",
   "execution_count": 13,
   "metadata": {},
   "outputs": [
    {
     "name": "stdout",
     "output_type": "stream",
     "text": [
      "True\n"
     ]
    }
   ],
   "source": [
    "print(builder.is_updatable)"
   ]
  },
  {
   "cell_type": "code",
   "execution_count": 14,
   "metadata": {},
   "outputs": [],
   "source": [
    "mlmodel_updatable_path = './UpdatableKNN.mlmodel'\n",
    "\n",
    "# Save the updated spec\n",
    "from coremltools.models import MLModel\n",
    "mlmodel_updatable = MLModel(builder.spec)\n",
    "mlmodel_updatable.save(mlmodel_updatable_path)"
   ]
  },
  {
   "cell_type": "code",
   "execution_count": null,
   "metadata": {},
   "outputs": [],
   "source": []
  }
 ],
 "metadata": {
  "kernelspec": {
   "display_name": "ModelCreator",
   "language": "python",
   "name": "modelcreator"
  },
  "language_info": {
   "codemirror_mode": {
    "name": "ipython",
    "version": 3
   },
   "file_extension": ".py",
   "mimetype": "text/x-python",
   "name": "python",
   "nbconvert_exporter": "python",
   "pygments_lexer": "ipython3",
   "version": "3.7.2"
  }
 },
 "nbformat": 4,
 "nbformat_minor": 4
}
