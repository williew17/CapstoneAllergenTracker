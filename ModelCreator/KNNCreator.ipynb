{
 "cells": [
  {
   "cell_type": "code",
   "execution_count": 1,
   "metadata": {},
   "outputs": [
    {
     "name": "stderr",
     "output_type": "stream",
     "text": [
      "/Users/williewu/.pyenv/versions/ModelCreator/lib/python3.7/site-packages/tensorflow/python/framework/dtypes.py:516: FutureWarning: Passing (type, 1) or '1type' as a synonym of type is deprecated; in a future version of numpy, it will be understood as (type, (1,)) / '(1,)type'.\n",
      "  _np_qint8 = np.dtype([(\"qint8\", np.int8, 1)])\n",
      "/Users/williewu/.pyenv/versions/ModelCreator/lib/python3.7/site-packages/tensorflow/python/framework/dtypes.py:517: FutureWarning: Passing (type, 1) or '1type' as a synonym of type is deprecated; in a future version of numpy, it will be understood as (type, (1,)) / '(1,)type'.\n",
      "  _np_quint8 = np.dtype([(\"quint8\", np.uint8, 1)])\n",
      "/Users/williewu/.pyenv/versions/ModelCreator/lib/python3.7/site-packages/tensorflow/python/framework/dtypes.py:518: FutureWarning: Passing (type, 1) or '1type' as a synonym of type is deprecated; in a future version of numpy, it will be understood as (type, (1,)) / '(1,)type'.\n",
      "  _np_qint16 = np.dtype([(\"qint16\", np.int16, 1)])\n",
      "/Users/williewu/.pyenv/versions/ModelCreator/lib/python3.7/site-packages/tensorflow/python/framework/dtypes.py:519: FutureWarning: Passing (type, 1) or '1type' as a synonym of type is deprecated; in a future version of numpy, it will be understood as (type, (1,)) / '(1,)type'.\n",
      "  _np_quint16 = np.dtype([(\"quint16\", np.uint16, 1)])\n",
      "/Users/williewu/.pyenv/versions/ModelCreator/lib/python3.7/site-packages/tensorflow/python/framework/dtypes.py:520: FutureWarning: Passing (type, 1) or '1type' as a synonym of type is deprecated; in a future version of numpy, it will be understood as (type, (1,)) / '(1,)type'.\n",
      "  _np_qint32 = np.dtype([(\"qint32\", np.int32, 1)])\n",
      "/Users/williewu/.pyenv/versions/ModelCreator/lib/python3.7/site-packages/tensorflow/python/framework/dtypes.py:525: FutureWarning: Passing (type, 1) or '1type' as a synonym of type is deprecated; in a future version of numpy, it will be understood as (type, (1,)) / '(1,)type'.\n",
      "  np_resource = np.dtype([(\"resource\", np.ubyte, 1)])\n",
      "/Users/williewu/.pyenv/versions/ModelCreator/lib/python3.7/site-packages/tensorboard/compat/tensorflow_stub/dtypes.py:541: FutureWarning: Passing (type, 1) or '1type' as a synonym of type is deprecated; in a future version of numpy, it will be understood as (type, (1,)) / '(1,)type'.\n",
      "  _np_qint8 = np.dtype([(\"qint8\", np.int8, 1)])\n",
      "/Users/williewu/.pyenv/versions/ModelCreator/lib/python3.7/site-packages/tensorboard/compat/tensorflow_stub/dtypes.py:542: FutureWarning: Passing (type, 1) or '1type' as a synonym of type is deprecated; in a future version of numpy, it will be understood as (type, (1,)) / '(1,)type'.\n",
      "  _np_quint8 = np.dtype([(\"quint8\", np.uint8, 1)])\n",
      "/Users/williewu/.pyenv/versions/ModelCreator/lib/python3.7/site-packages/tensorboard/compat/tensorflow_stub/dtypes.py:543: FutureWarning: Passing (type, 1) or '1type' as a synonym of type is deprecated; in a future version of numpy, it will be understood as (type, (1,)) / '(1,)type'.\n",
      "  _np_qint16 = np.dtype([(\"qint16\", np.int16, 1)])\n",
      "/Users/williewu/.pyenv/versions/ModelCreator/lib/python3.7/site-packages/tensorboard/compat/tensorflow_stub/dtypes.py:544: FutureWarning: Passing (type, 1) or '1type' as a synonym of type is deprecated; in a future version of numpy, it will be understood as (type, (1,)) / '(1,)type'.\n",
      "  _np_quint16 = np.dtype([(\"quint16\", np.uint16, 1)])\n",
      "/Users/williewu/.pyenv/versions/ModelCreator/lib/python3.7/site-packages/tensorboard/compat/tensorflow_stub/dtypes.py:545: FutureWarning: Passing (type, 1) or '1type' as a synonym of type is deprecated; in a future version of numpy, it will be understood as (type, (1,)) / '(1,)type'.\n",
      "  _np_qint32 = np.dtype([(\"qint32\", np.int32, 1)])\n",
      "/Users/williewu/.pyenv/versions/ModelCreator/lib/python3.7/site-packages/tensorboard/compat/tensorflow_stub/dtypes.py:550: FutureWarning: Passing (type, 1) or '1type' as a synonym of type is deprecated; in a future version of numpy, it will be understood as (type, (1,)) / '(1,)type'.\n",
      "  np_resource = np.dtype([(\"resource\", np.ubyte, 1)])\n"
     ]
    }
   ],
   "source": [
    "number_of_dimensions = 3\n",
    "\n",
    "from coremltools.models.nearest_neighbors import KNearestNeighborsClassifierBuilder\n",
    "builder = KNearestNeighborsClassifierBuilder(input_name='input',\n",
    "                                             output_name='output',\n",
    "                                             number_of_dimensions=number_of_dimensions,\n",
    "                                             default_class_label='00000',\n",
    "                                             number_of_neighbors=3,\n",
    "                                             weighting_scheme='inverse_distance',\n",
    "                                             index_type='linear')\n",
    "\n",
    "builder.author = 'Willie Wu'\n",
    "builder.license = 'MIT'\n",
    "builder.description = 'Classifies {} dimension vector based on 3 nearest neighbors'.format(number_of_dimensions)\n",
    "\n",
    "builder.spec.description.input[0].shortDescription = 'Input vector to classify'\n",
    "builder.spec.description.output[0].shortDescription = 'Predicted label. Defaults to \\'00000\\''\n",
    "builder.spec.description.output[1].shortDescription = 'Probabilities / score for each possible label.'\n",
    "\n",
    "builder.spec.description.trainingInput[0].shortDescription = 'Example input vector'\n",
    "builder.spec.description.trainingInput[1].shortDescription = 'Associated true label of each example vector'"
   ]
  },
  {
   "cell_type": "code",
   "execution_count": 2,
   "metadata": {},
   "outputs": [],
   "source": [
    "import numpy as np\n",
    "\n",
    "def give_random(high, target_percentile):\n",
    "    return int(np.random.normal(high*target_percentile, 15))\n",
    "    \n",
    "    \n",
    "def give_random_all(target_percentile):\n",
    "    #weed, tree, grass\n",
    "    return [give_random(500, target_percentile),\n",
    "            give_random(1500, target_percentile),\n",
    "            give_random(200, target_percentile)]"
   ]
  },
  {
   "cell_type": "code",
   "execution_count": 12,
   "metadata": {},
   "outputs": [],
   "source": [
    "# add_samples(data_points, labels)\n",
    "# Add some samples to the KNearestNeighborsClassifier model\n",
    "# :param data_points: List of input data points\n",
    "# :param labels: List of corresponding labels\n",
    "# :return: None\n",
    "data = []\n",
    "labels = []\n",
    "user = {\"Never\": 0, \"Rarely\": 1, \"Occasionally\": 2, \"Often\": 3}\n",
    "severity_options = [str(i) for i in list(range(2))]\n",
    "for i in severity_options:\n",
    "    for j in severity_options:\n",
    "        for k in severity_options:\n",
    "            for h in severity_options:\n",
    "                for l in severity_options:\n",
    "                    tot = int(i) + int(j) + int(k) + int(h)+ int(l)\n",
    "                    percentile = (tot/5) /15\n",
    "                    fuzzed = give_random_all(percentile)\n",
    "                    labels.append(i+j+k+h+l)\n",
    "                    data.append(fuzzed)\n",
    "builder.add_samples(data, labels)"
   ]
  },
  {
   "cell_type": "code",
   "execution_count": 3,
   "metadata": {},
   "outputs": [
    {
     "name": "stdout",
     "output_type": "stream",
     "text": [
      "True\n"
     ]
    }
   ],
   "source": [
    "print(builder.is_updatable)"
   ]
  },
  {
   "cell_type": "code",
   "execution_count": 4,
   "metadata": {},
   "outputs": [],
   "source": [
    "mlmodel_updatable_path = './UpdatableKNN.mlmodel'\n",
    "\n",
    "# Save the updated spec\n",
    "from coremltools.models import MLModel\n",
    "mlmodel_updatable = MLModel(builder.spec)\n",
    "mlmodel_updatable.save(mlmodel_updatable_path)"
   ]
  },
  {
   "cell_type": "code",
   "execution_count": null,
   "metadata": {},
   "outputs": [],
   "source": []
  }
 ],
 "metadata": {
  "kernelspec": {
   "display_name": "ModelCreator",
   "language": "python",
   "name": "modelcreator"
  },
  "language_info": {
   "codemirror_mode": {
    "name": "ipython",
    "version": 3
   },
   "file_extension": ".py",
   "mimetype": "text/x-python",
   "name": "python",
   "nbconvert_exporter": "python",
   "pygments_lexer": "ipython3",
   "version": "3.7.2"
  }
 },
 "nbformat": 4,
 "nbformat_minor": 4
}
