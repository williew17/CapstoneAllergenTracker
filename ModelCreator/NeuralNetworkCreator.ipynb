{
 "cells": [
  {
   "cell_type": "code",
   "execution_count": null,
   "metadata": {},
   "outputs": [],
   "source": [
    "import coremltools\n",
    "import keras\n",
    "from keras.models import Sequential, load_model\n",
    "from keras.layers import Dense\n",
    "from coremltools.converters import keras as keras_converter\n",
    "from coremltools.models.neural_network import datatypes, SgdParams\n",
    "from coremltools.models import MLModel\n",
    "import numpy as np"
   ]
  },
  {
   "cell_type": "code",
   "execution_count": null,
   "metadata": {},
   "outputs": [],
   "source": [
    "def create_keras_base_model(url):\n",
    "    \"\"\"This method creates a convolutional neural network model using Keras.\n",
    "    url - The URL that the keras model will be saved as h5 file.\n",
    "    \"\"\"  \n",
    "    keras.backend.clear_session()\n",
    "    model = Sequential()\n",
    "    model.add(Dense(6, input_dim=3, activation='relu'))\n",
    "    model.add(Dense(5, activation='linear'))\n",
    "\n",
    "    model.compile(loss=keras.losses.categorical_crossentropy,\n",
    "                  optimizer=keras.optimizers.SGD(lr=0.01),\n",
    "                  metrics=['accuracy'])\n",
    "\n",
    "    model.save(url)\n",
    "\n",
    "keras_model_path = './KerasNN.h5'\n",
    "create_keras_base_model(keras_model_path)"
   ]
  },
  {
   "cell_type": "code",
   "execution_count": null,
   "metadata": {},
   "outputs": [],
   "source": [
    "def convert_keras_to_mlmodel(keras_url, mlmodel_url):\n",
    "    \"\"\"This method simply converts the keras model to a mlmodel using coremltools.\n",
    "    keras_url - The URL the keras model will be loaded.\n",
    "    mlmodel_url - the URL the Core ML model will be saved.\n",
    "    \"\"\"\n",
    "    keras_model = load_model(keras_url)\n",
    "    mlmodel = keras_converter.convert(keras_model)\n",
    "    mlmodel.save(mlmodel_url)\n",
    "    return mlmodel\n",
    "     \n",
    "coreml_model_path = './KerasNN.mlmodel'\n",
    "NNmodel = convert_keras_to_mlmodel(keras_model_path , coreml_model_path)"
   ]
  },
  {
   "cell_type": "code",
   "execution_count": null,
   "metadata": {},
   "outputs": [],
   "source": [
    "print(NNmodel)"
   ]
  },
  {
   "cell_type": "code",
   "execution_count": null,
   "metadata": {},
   "outputs": [],
   "source": [
    "spec = coremltools.utils.load_spec(coreml_model_path)\n",
    "builder = coremltools.models.neural_network.NeuralNetworkBuilder(spec=spec)\n",
    "builder.inspect_layers()\n",
    "builder.inspect_input_features()\n",
    "\n",
    "neuralnetwork_spec = builder.spec\n",
    "\n",
    "# Set input and output description\n",
    "neuralnetwork_spec.description.input[0].shortDescription = '3 Pollen Index Input'\n",
    "neuralnetwork_spec.description.output[0].shortDescription = 'Predicted Symptom severity from 0-5 inclusive'\n",
    "\n",
    "# Provide metadata\n",
    "neuralnetwork_spec.description.metadata.author = 'Core ML Tools'\n",
    "neuralnetwork_spec.description.metadata.license = 'MIT'\n",
    "neuralnetwork_spec.description.metadata.shortDescription = (\n",
    "        'An updatable neural network for predicting symptom severity')"
   ]
  },
  {
   "cell_type": "code",
   "execution_count": null,
   "metadata": {},
   "outputs": [],
   "source": [
    "def make_updatable(builder, mlmodel_url, mlmodel_updatable_path):\n",
    "    \"\"\"This method makes an existing non-updatable mlmodel updatable.\n",
    "    mlmodel_url - the path the Core ML model is stored.\n",
    "    mlmodel_updatable_path - the path the updatable Core ML model will be saved.\n",
    "    \"\"\"\n",
    "\n",
    "    model_spec = builder.spec\n",
    "\n",
    "    # make_updatable method is used to make a layer updatable. It requires a list of layer names.\n",
    "    # dense_1 and dense_2 are two innerProduct layer in this example and we make them updatable.\n",
    "    builder.make_updatable(['dense_2'])\n",
    "\n",
    "    # Categorical Cross Entropy or Mean Squared Error can be chosen for the loss layer.\n",
    "    # Categorical Cross Entropy is used on this example. CCE requires two inputs: 'name' and 'input'.\n",
    "    # name must be a string and will be the name associated with the loss layer\n",
    "    # input must be the output of a softmax layer in the case of CCE. \n",
    "    # The loss's target will be provided automatically as a part of the model's training inputs.\n",
    "    builder.set_mean_squared_error_loss(name='lossLayer', input_feature=(\"output1\",datatypes.Array(5)))\n",
    "\n",
    "    # in addition of the loss layer, an optimizer must also be defined. SGD and Adam optimizers are supported.\n",
    "    # SGD has been used for this example. To use SGD, one must set lr(learningRate) and batch(miniBatchSize) (momentum is an optional parameter).\n",
    "    builder.set_sgd_optimizer(SgdParams(lr=0.01, batch=4))\n",
    "\n",
    "    # Finally, the number of epochs must be set as follows.\n",
    "    builder.set_epochs(10)\n",
    "        \n",
    "    # Set training inputs descriptions\n",
    "    model_spec.description.trainingInput[0].shortDescription = 'Example of pollen levels'\n",
    "    model_spec.description.trainingInput[1].shortDescription = 'Associated symptom severities'\n",
    "\n",
    "    # save the updated spec\n",
    "    mlmodel_updatable = MLModel(model_spec)\n",
    "    mlmodel_updatable.save(mlmodel_updatable_path)\n",
    "\n",
    "coreml_updatable_model_path = './UpdatableKerasNN.mlmodel'\n",
    "make_updatable(builder, coreml_model_path, coreml_updatable_model_path)"
   ]
  },
  {
   "cell_type": "code",
   "execution_count": null,
   "metadata": {},
   "outputs": [],
   "source": [
    "# let's inspect the loss layer of the Core ML model\n",
    "spec = coremltools.utils.load_spec(coreml_updatable_model_path)\n",
    "builder = coremltools.models.neural_network.NeuralNetworkBuilder(spec=spec)\n",
    "\n",
    "builder.inspect_loss_layers()\n",
    "\n",
    "builder.inspect_optimizer()\n",
    "\n",
    "# let's see which layers are updatable\n",
    "builder.inspect_updatable_layers()"
   ]
  },
  {
   "cell_type": "code",
   "execution_count": null,
   "metadata": {},
   "outputs": [],
   "source": [
    "print(builder.spec)"
   ]
  },
  {
   "cell_type": "code",
   "execution_count": null,
   "metadata": {},
   "outputs": [],
   "source": [
    "model =  MLModel('UpdatableKerasNN.mlmodel')\n",
    "predictions = model.predict(data = {'input1': np.array([3,50,100]) })"
   ]
  },
  {
   "cell_type": "code",
   "execution_count": null,
   "metadata": {},
   "outputs": [],
   "source": [
    "print(predictions)"
   ]
  },
  {
   "cell_type": "code",
   "execution_count": null,
   "metadata": {},
   "outputs": [],
   "source": [
    "print(\"done\")"
   ]
  },
  {
   "cell_type": "code",
   "execution_count": null,
   "metadata": {},
   "outputs": [],
   "source": []
  }
 ],
 "metadata": {
  "kernelspec": {
   "display_name": "ModelCreator",
   "language": "python",
   "name": "modelcreator"
  },
  "language_info": {
   "codemirror_mode": {
    "name": "ipython",
    "version": 3
   },
   "file_extension": ".py",
   "mimetype": "text/x-python",
   "name": "python",
   "nbconvert_exporter": "python",
   "pygments_lexer": "ipython3",
   "version": "3.7.2"
  }
 },
 "nbformat": 4,
 "nbformat_minor": 4
}
